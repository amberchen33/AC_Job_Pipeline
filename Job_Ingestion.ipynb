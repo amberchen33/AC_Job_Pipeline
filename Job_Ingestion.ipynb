{
 "cells": [
  {
   "cell_type": "code",
   "execution_count": 1,
   "metadata": {
    "collapsed": false
   },
   "outputs": [],
   "source": [
    "import json\n",
    "import csv\n",
    "from collections import OrderedDict\n",
    "import urllib.request\n",
    "import time\n",
    "import psycopg2\n",
    "import os\n",
    "import re\n",
    "import numpy as np"
   ]
  },
  {
   "cell_type": "markdown",
   "metadata": {},
   "source": [
    "## Getting and Processing Data"
   ]
  },
  {
   "cell_type": "code",
   "execution_count": 2,
   "metadata": {
    "collapsed": true
   },
   "outputs": [],
   "source": [
    "#Prevent webpage blocking on urlopen\n",
    "user_agent = 'Mozilla/5.0 (Windows; U; Windows NT 5.1; en-US; rv:1.9.0.7) Gecko/2009021910 Firefox/3.0.7'\n",
    "url = 'https://remoteok.io/remote-jobs.json'\n",
    "headers={'User-Agent':user_agent,} \n",
    "request=urllib.request.Request(url,None,headers) #The assembled request"
   ]
  },
  {
   "cell_type": "code",
   "execution_count": 3,
   "metadata": {
    "collapsed": true
   },
   "outputs": [],
   "source": [
    "#Request data in terms of json from remote.ok webpage\n",
    "res = urllib.request.urlopen(request) #res is an object of http request\n",
    "\n",
    "#Decode object of client service into json \n",
    "raw_data = res.read()\n",
    "encoding =res.info().get_content_charset('utf8')"
   ]
  },
  {
   "cell_type": "code",
   "execution_count": 4,
   "metadata": {
    "collapsed": false
   },
   "outputs": [],
   "source": [
    "#Load decoded data in order as json format\n",
    "data = json.loads(raw_data.decode(encoding), object_pairs_hook=OrderedDict) "
   ]
  },
  {
   "cell_type": "code",
   "execution_count": 5,
   "metadata": {
    "collapsed": false
   },
   "outputs": [],
   "source": [
    "#strips all non-ascii characters\n",
    "#this is for all remaining non-significant ones\n",
    "def make_ascii(text):\n",
    "    return ''.join([i if ord(i) < 128 else '' for i in text])\n",
    "\n",
    "#strips out all html markup and insert ascii replacements\n",
    "def cleanhtml(raw_html):\n",
    "    #replace for \\n\n",
    "    raw_html = raw_html.replace(\"<br>\",\"\\n\")\n",
    "    raw_html = raw_html.replace(\"</li>\",\"\\n\")\n",
    "    raw_html = re.sub(\"</h*>\",\"\\n\", raw_html)\n",
    "    raw_html = re.sub(\"</h3>\",\"\\n\", raw_html)\n",
    "    #html conversions\n",
    "    raw_html = raw_html.replace(\"&nbsp;\",\" \")\n",
    "    raw_html = raw_html.replace(\"\t\",\" \")\n",
    "    raw_html = raw_html.replace(\"&#x27;\",\"'\")\n",
    "    raw_html = raw_html.replace(\"â\",\"'\")    \n",
    "    raw_html = raw_html.replace(\"â\",\"-\")\n",
    "    raw_html = raw_html.replace(\"â\",\"-\")\n",
    "    raw_html = raw_html.replace(\"â¢\",\"-\")\n",
    "    raw_html = raw_html.replace(\"â\",\"-\")\n",
    "    raw_html = raw_html.replace(\"&lt;\",\"<\")\n",
    "    raw_html = raw_html.replace(\"&gt;\",\">\")\n",
    "    raw_html = raw_html.replace(\"â¦\",\"...\")\n",
    "    raw_html = raw_html.replace(\"â¦\",\"...\")\n",
    "    raw_html = raw_html.replace(\"&amp\",\"and\")\n",
    "    raw_html = raw_html.replace(\"and;\",\"and\")\n",
    "    Raw_html = raw_html.replace(\"&\",\"and\")\n",
    "    raw_html = raw_html.replace(\"Ã©\",\"e\")\n",
    "    raw_html = raw_html.replace(\"â¬\",\"€\")\n",
    "    raw_html = raw_html.replace(\"â\",\"\\\"\") \n",
    "    raw_html = raw_html.replace(\"â\",\"\\\"\")       \n",
    "    raw_html = raw_html.replace(\"Â\",\"\")\n",
    "    raw_html = raw_html.replace(\"__\",\"\")\n",
    "    raw_html = raw_html.replace(\"_\",\"\")\n",
    "    raw_html = raw_html.replace(\"ï¿½\",\"\")\n",
    "    raw_html = re.sub(\"##+\",\"\",raw_html)\n",
    "    #remove noise markups\n",
    "    cleantext = raw_html\n",
    "    cleantext = re.sub('<.*?>','',cleantext)\n",
    "    cleantext = re.sub(' +',' ',cleantext)\n",
    "    cleantext = re.sub('(\\n)(\\n)(\\n)+','\\n\\n',cleantext)\n",
    "    return make_ascii(cleantext)\n",
    "\n",
    "#iterate through listing descriptions and clean each one\n",
    "for job_number, job in enumerate(data):   \n",
    "    job[\"description\"] = cleanhtml(str(job[\"description\"]))\n",
    "    job[\"label\"] = 0"
   ]
  },
  {
   "cell_type": "code",
   "execution_count": 6,
   "metadata": {
    "collapsed": false
   },
   "outputs": [
    {
     "name": "stdout",
     "output_type": "stream",
     "text": [
      "slug\n",
      "60907-remote-user-researcher-authoring-tools-ink-switch\n",
      "id\n",
      "60907\n",
      "epoch\n",
      "1500564066\n",
      "date\n",
      "2017-07-20T08:21:06-07:00\n",
      "company\n",
      "Ink Switch\n",
      "position\n",
      "User Researcher Authoring Tools\n",
      "tags\n",
      "[]\n",
      "logo\n",
      "\n",
      "description\n",
      "Ink & Switch is hiring a User Researcher, Authoring Tools anywhere\n",
      "url\n",
      "https://remoteok.io/jobs/60907-remote-user-researcher-authoring-tools-ink-switch\n",
      "label\n",
      "0\n"
     ]
    }
   ],
   "source": [
    "#To see sample data\n",
    "for job_number, job in enumerate(data):\n",
    "    for item in job:\n",
    "        print(item)\n",
    "        print(job[item])\n",
    "    break"
   ]
  },
  {
   "cell_type": "markdown",
   "metadata": {},
   "source": [
    "## CSV Generation\n"
   ]
  },
  {
   "cell_type": "code",
   "execution_count": 7,
   "metadata": {
    "collapsed": false
   },
   "outputs": [
    {
     "name": "stdout",
     "output_type": "stream",
     "text": [
      "D20170720_raw\n"
     ]
    }
   ],
   "source": [
    "#Create file name with the current date for daily based update\n",
    "timestr = time.strftime(\"%Y%m%d\") \n",
    "file_name='D'+str(timestr)+\"_raw\"\n",
    "print(file_name)"
   ]
  },
  {
   "cell_type": "code",
   "execution_count": 8,
   "metadata": {
    "collapsed": false
   },
   "outputs": [],
   "source": [
    "#Convert json file to csv file\n",
    "keys = data[0].keys()\n",
    "with open(\"./CSVs/\"+file_name + '.csv', 'w', encoding='utf-8', newline = '') as output_file:\n",
    "    dict_writer = csv.DictWriter(output_file, keys)\n",
    "    dict_writer.writeheader()\n",
    "    count = 1\n",
    "    for d in data:\n",
    "        dict_writer.writerow(d)\n",
    "        count += 1"
   ]
  },
  {
   "cell_type": "markdown",
   "metadata": {},
   "source": [
    "## PostgreSQL"
   ]
  },
  {
   "cell_type": "code",
   "execution_count": 9,
   "metadata": {
    "collapsed": false
   },
   "outputs": [],
   "source": [
    "#Connect to postgreSQL remote\n",
    "conn = psycopg2.connect(host=\"192.168.1.67\", database=\"Remote_ok_db\", user=\"postgres\", password=\"password\", port=5432)\n",
    "cur = conn.cursor()"
   ]
  },
  {
   "cell_type": "code",
   "execution_count": 11,
   "metadata": {
    "collapsed": false
   },
   "outputs": [],
   "source": [
    "#Connect to postgreSQL local\n",
    "conn = psycopg2.connect(host=\"localhost\", database=\"Remote_ok_db\", user=\"postgres\", password=\"password\")\n",
    "cur = conn.cursor()"
   ]
  },
  {
   "cell_type": "code",
   "execution_count": 10,
   "metadata": {
    "collapsed": true
   },
   "outputs": [],
   "source": [
    "#Connect to postgreSQL remote\n",
    "conn = psycopg2.connect(host=\"192.168.1.67\", database=\"Remote_ok_db\", user=\"postgres\", password=\"password\", port=5432)\n",
    "cur = conn.cursor()"
   ]
  },
  {
   "cell_type": "code",
   "execution_count": 11,
   "metadata": {
    "collapsed": false
   },
   "outputs": [
    {
     "name": "stdout",
     "output_type": "stream",
     "text": [
      "Created table\n"
     ]
    }
   ],
   "source": [
    "#Create tables in the PostgreSQL database\n",
    "sql_exe=\"\"\" CREATE TABLE \"\"\"+\" \"+file_name+\"\"\"\n",
    "( slug varchar,\n",
    "  id character(5) NOT NULL,\n",
    "  epoch character(10),\n",
    "  postdate timestamp with time zone,\n",
    "  company varchar,\n",
    "  position varchar,\n",
    "  tags varchar,\n",
    "  logo varchar(2083),\n",
    "  description varchar,\n",
    "  url varchar(2083),\n",
    "  label varchar\n",
    ");\"\"\"\n",
    "#execute SQL query\n",
    "cur.execute(sql_exe)\n",
    "print('Created table')"
   ]
  },
  {
   "cell_type": "code",
   "execution_count": 12,
   "metadata": {
    "collapsed": false
   },
   "outputs": [],
   "source": [
    "base_dir = os.path.join(os.getcwd(),\"CSVs\")\n",
    "path_name= file_name+'.csv'\n",
    "path=os.path.join(base_dir,path_name)\n",
    "\n",
    "sql1 = 'COPY' +\" \"+file_name+' '+'FROM stdin'\n",
    "sql2=\"\"\"\n",
    "WITH CSV HEADER \n",
    "DELIMITER as ',' \"\"\" \n",
    "copy_sql= sql1 + sql2"
   ]
  },
  {
   "cell_type": "code",
   "execution_count": 13,
   "metadata": {
    "collapsed": false
   },
   "outputs": [
    {
     "name": "stdout",
     "output_type": "stream",
     "text": [
      "Successfully imported data\n"
     ]
    }
   ],
   "source": [
    "#Import data into table\n",
    "with open(path, 'r', encoding='utf-8') as f:\n",
    "    cur.copy_expert(sql=copy_sql, file=f)\n",
    "    print('Successfully imported data')\n",
    "    conn.commit()    "
   ]
  }
 ],
 "metadata": {
  "anaconda-cloud": {},
  "kernelspec": {
   "display_name": "Python [Root]",
   "language": "python",
   "name": "Python [Root]"
  },
  "language_info": {
   "codemirror_mode": {
    "name": "ipython",
    "version": 3
   },
   "file_extension": ".py",
   "mimetype": "text/x-python",
   "name": "python",
   "nbconvert_exporter": "python",
   "pygments_lexer": "ipython3",
   "version": "3.5.2"
  }
 },
 "nbformat": 4,
 "nbformat_minor": 2
}
